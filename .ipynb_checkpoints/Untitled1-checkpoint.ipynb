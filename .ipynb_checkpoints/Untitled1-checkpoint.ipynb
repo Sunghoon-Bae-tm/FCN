{
 "cells": [
  {
   "cell_type": "code",
   "execution_count": 3,
   "metadata": {},
   "outputs": [],
   "source": [
    "#현재는 2배만 줄이는 것을 기준으로 잡고 제작\n",
    "\n",
    "def re_shape2(x):\n",
    "    \n",
    "    if len(x.shape) ==4:\n",
    "        N,H,W,C=x.shape\n",
    "        \n",
    "        if N == None:\n",
    "            N1=1\n",
    "        else:\n",
    "            N1=N\n",
    "        \n",
    "        x_reshape = np.reshape(x,(N1*H*W*C))  #1차원으로 변환\n",
    "                               \n",
    "    elif len(x.shape) == 3:\n",
    "        H, W, C= x.shape\n",
    "        N=1\n",
    "        x_reshape = np.reshape(x,(H*W*C)) #1차원으로 변환                   \n",
    "    \n",
    "    else:\n",
    "        H,W = x.shape\n",
    "        N,C=1\n",
    "        x_reshape = np.reshape(x,(H*W))  #1차원으로 변환\n",
    "        \n",
    "    out_h = H//2\n",
    "    out_w = W//2\n",
    "    \n",
    "    x_2row = np.reshape(x_reshape,(-1,out_w)) #2차원으로 변환  #여기부터 높이너비 다른 경우 수정 #열을 기준으로\n",
    "    \n",
    "    input_shape = np.zeros((C*4,out_h*out_w)) #데이터 재배치할 2차원 행렬 형성 (2차원)  #통과\n",
    "\n",
    "    even = x_2row[::2].reshape(-1,out_h*out_w)  #짝수번 인덱스의 데이터\n",
    "    odd = x_2row[1::2].reshape(-1,out_h*out_w)  #홀수번 인덱스의 데이터\n",
    "    for i in range(0, C*4, 2):\n",
    "        input_shape[i] = even[i//2]\n",
    "        input_shape[i+1] = odd[i//2]\n",
    "    \n",
    "    final_shape = tf.reshape(input_shape, (N, out_h, out_w, C*4))\n",
    "    \n",
    "    print(final_shape)\n",
    "    "
   ]
  },
  {
   "cell_type": "code",
   "execution_count": null,
   "metadata": {},
   "outputs": [],
   "source": []
  },
  {
   "cell_type": "code",
   "execution_count": null,
   "metadata": {},
   "outputs": [],
   "source": []
  },
  {
   "cell_type": "code",
   "execution_count": null,
   "metadata": {},
   "outputs": [],
   "source": []
  },
  {
   "cell_type": "code",
   "execution_count": null,
   "metadata": {},
   "outputs": [],
   "source": []
  },
  {
   "cell_type": "code",
   "execution_count": null,
   "metadata": {},
   "outputs": [],
   "source": []
  },
  {
   "cell_type": "code",
   "execution_count": null,
   "metadata": {},
   "outputs": [],
   "source": []
  },
  {
   "cell_type": "code",
   "execution_count": null,
   "metadata": {},
   "outputs": [],
   "source": []
  },
  {
   "cell_type": "code",
   "execution_count": null,
   "metadata": {},
   "outputs": [],
   "source": []
  },
  {
   "cell_type": "code",
   "execution_count": null,
   "metadata": {},
   "outputs": [],
   "source": []
  },
  {
   "cell_type": "code",
   "execution_count": null,
   "metadata": {},
   "outputs": [],
   "source": []
  },
  {
   "cell_type": "code",
   "execution_count": null,
   "metadata": {},
   "outputs": [],
   "source": []
  },
  {
   "cell_type": "code",
   "execution_count": null,
   "metadata": {},
   "outputs": [],
   "source": []
  },
  {
   "cell_type": "code",
   "execution_count": null,
   "metadata": {},
   "outputs": [],
   "source": []
  },
  {
   "cell_type": "code",
   "execution_count": null,
   "metadata": {},
   "outputs": [],
   "source": []
  },
  {
   "cell_type": "code",
   "execution_count": null,
   "metadata": {},
   "outputs": [],
   "source": []
  },
  {
   "cell_type": "code",
   "execution_count": null,
   "metadata": {},
   "outputs": [],
   "source": []
  }
 ],
 "metadata": {
  "kernelspec": {
   "display_name": "tensorflow2.0",
   "language": "python",
   "name": "tf.2.0"
  },
  "language_info": {
   "codemirror_mode": {
    "name": "ipython",
    "version": 3
   },
   "file_extension": ".py",
   "mimetype": "text/x-python",
   "name": "python",
   "nbconvert_exporter": "python",
   "pygments_lexer": "ipython3",
   "version": "3.7.7"
  }
 },
 "nbformat": 4,
 "nbformat_minor": 4
}
